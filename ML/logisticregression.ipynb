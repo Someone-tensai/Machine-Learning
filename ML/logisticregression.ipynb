{
 "cells": [
  {
   "cell_type": "code",
   "execution_count": 2,
   "metadata": {},
   "outputs": [],
   "source": [
    "import numpy as np\n",
    "\n",
    "def sigmoid(z):\n",
    "    return 1 / (1 + np.exp(-z))"
   ]
  },
  {
   "cell_type": "code",
   "execution_count": 3,
   "metadata": {},
   "outputs": [],
   "source": [
    "def loss(hx , y):\n",
    "    return -np.mean((y * np.log(hx) + (1-y) * np.log(1 - hx)))"
   ]
  },
  {
   "cell_type": "code",
   "execution_count": 4,
   "metadata": {},
   "outputs": [],
   "source": [
    "def gradient_descent(x , y , hx):\n",
    "    return np.dot(x.T , (hx - y)) / y.shape[0] "
   ]
  },
  {
   "cell_type": "code",
   "execution_count": 6,
   "metadata": {},
   "outputs": [],
   "source": [
    "x = np.array([\n",
    "    [2, 1], \n",
    "    [3, 2], \n",
    "    [4, 4],  # Positive examples\n",
    "    [1, 5], \n",
    "    [2, 6], \n",
    "    [3, 7]   # Negative examples\n",
    "])\n",
    "y = np.array([1, 1, 1, 0, 0, 0])  # Labels"
   ]
  },
  {
   "cell_type": "code",
   "execution_count": null,
   "metadata": {},
   "outputs": [],
   "source": [
    "def logistic_regression(x , y , learning_rate = 0.01 , num_iterations = 10):\n",
    "    x = np.hstack((np.ones((x.shape[0] , 1)) , x))\n",
    "\n",
    "    weights = np.zeros(x.shape[2])"
   ]
  }
 ],
 "metadata": {
  "kernelspec": {
   "display_name": "Python 3",
   "language": "python",
   "name": "python3"
  },
  "language_info": {
   "codemirror_mode": {
    "name": "ipython",
    "version": 3
   },
   "file_extension": ".py",
   "mimetype": "text/x-python",
   "name": "python",
   "nbconvert_exporter": "python",
   "pygments_lexer": "ipython3",
   "version": "3.12.1"
  }
 },
 "nbformat": 4,
 "nbformat_minor": 2
}
